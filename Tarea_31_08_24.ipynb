{
  "nbformat": 4,
  "nbformat_minor": 0,
  "metadata": {
    "colab": {
      "provenance": [],
      "authorship_tag": "ABX9TyM5NJ2LUdub6QJUoPsGApUi",
      "include_colab_link": true
    },
    "kernelspec": {
      "name": "python3",
      "display_name": "Python 3"
    },
    "language_info": {
      "name": "python"
    }
  },
  "cells": [
    {
      "cell_type": "markdown",
      "metadata": {
        "id": "view-in-github",
        "colab_type": "text"
      },
      "source": [
        "<a href=\"https://colab.research.google.com/github/mur75/AnaliticaGuerrero/blob/main/Tarea_31_08_24.ipynb\" target=\"_parent\"><img src=\"https://colab.research.google.com/assets/colab-badge.svg\" alt=\"Open In Colab\"/></a>"
      ]
    },
    {
      "cell_type": "code",
      "execution_count": null,
      "metadata": {
        "id": "Jo24ovLbeeYf"
      },
      "outputs": [],
      "source": []
    },
    {
      "cell_type": "markdown",
      "source": [
        "<p style=\"line-height: 1.8;\">\n",
        "<div style=\"text-align: center;\">\n",
        "\n",
        "**Exploraciones en Botánica: Estructura, Función y Diversidad de las Plantas**\n",
        "\n",
        "</div>\n",
        "</p>\n",
        "\n",
        "<p style=\"line-height: 1.5;\">\n",
        "<div style=\"text-align: center;\">\n",
        "Susan Johana Guerrero Mur\n",
        "</div>\n",
        "</p>\n",
        "\n",
        "<p style=\"line-height: 1.5;\">\n",
        "Konrad Lorenz Fundación Universitaria\n",
        "</p>\n",
        "<p style=\"line-height: 1.5;\">\n",
        "BIO 101\n",
        "</p>\n",
        "<p style=\"line-height: 1.5;\">\n",
        "Dr. Profesor\n",
        "</p>\n",
        "31 de Agosto, 2024\n"
      ],
      "metadata": {
        "id": "0ivTH6UkdbTY"
      }
    }
  ]
}